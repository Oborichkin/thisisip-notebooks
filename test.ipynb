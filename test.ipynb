{
 "metadata": {
  "language_info": {
   "codemirror_mode": {
    "name": "ipython",
    "version": 3
   },
   "file_extension": ".py",
   "mimetype": "text/x-python",
   "name": "python",
   "nbconvert_exporter": "python",
   "pygments_lexer": "ipython3",
   "version": "3.9.1-final"
  },
  "orig_nbformat": 2,
  "kernelspec": {
   "name": "python3",
   "display_name": "Python 3",
   "language": "python"
  }
 },
 "nbformat": 4,
 "nbformat_minor": 2,
 "cells": [
  {
   "cell_type": "code",
   "execution_count": 20,
   "metadata": {},
   "outputs": [],
   "source": [
    "import re\n",
    "import string\n",
    "from collections import Counter\n",
    "\n",
    "from nltk.corpus import stopwords\n",
    "from nltk.tokenize import word_tokenize"
   ]
  },
  {
   "cell_type": "code",
   "execution_count": 25,
   "metadata": {},
   "outputs": [],
   "source": [
    "with open(\"3261.txt\", \"r\") as f:\n",
    "    rfc = f.read()"
   ]
  },
  {
   "cell_type": "code",
   "execution_count": 56,
   "metadata": {
    "tags": []
   },
   "outputs": [],
   "source": [
    "stop_words = set(stopwords.words('english'))\n",
    "for elem in string.punctuation:\n",
    "    rfc_preprocessed = rfc_preprocessed.replace(elem, \" \")\n",
    "rfc_preprocessed = re.sub(' +',' ', rfc_preprocessed).lower()\n",
    "word_tokens = word_tokenize(rfc_preprocessed)\n",
    "\n",
    "tokens = [w for w in word_tokens if not w in stop_words]\n",
    "tokens = [w for w in tokens if len(w) > 1 and not w.isnumeric()]"
   ]
  },
  {
   "cell_type": "code",
   "execution_count": 57,
   "metadata": {},
   "outputs": [],
   "source": [
    "c = Counter()\n",
    "c.update(tokens)"
   ]
  },
  {
   "cell_type": "code",
   "execution_count": 62,
   "metadata": {},
   "outputs": [
    {
     "output_type": "execute_result",
     "data": {
      "text/plain": [
       "[('provisional', 96),\n",
       " ('response', 80),\n",
       " ('responses', 59),\n",
       " ('reliable', 54),\n",
       " ('prack', 42),\n",
       " ('request', 40),\n",
       " ('must', 39),\n",
       " ('header', 36),\n",
       " ('rfc', 35),\n",
       " ('uas', 33),\n",
       " ('reliability', 25),\n",
       " ('rseq', 25),\n",
       " ('sip', 23),\n",
       " ('schulzrinne', 20),\n",
       " ('field', 20),\n",
       " ('may', 20),\n",
       " ('send', 20),\n",
       " ('rosenberg', 19),\n",
       " ('standards', 19),\n",
       " ('2xx', 18),\n",
       " ('method', 17),\n",
       " ('uac', 17),\n",
       " ('rack', 17),\n",
       " ('track', 16),\n",
       " ('june', 16),\n",
       " ('tag', 16),\n",
       " ('reliably', 16),\n",
       " ('invite', 16),\n",
       " ('sent', 15),\n",
       " ('option', 14),\n",
       " ('100rel', 14),\n",
       " ('offer', 14),\n",
       " ('page', 14),\n",
       " ('received', 14),\n",
       " ('internet', 13),\n",
       " ('number', 13),\n",
       " ('answer', 12),\n",
       " ('initial', 12),\n",
       " ('session', 11),\n",
       " ('final', 11),\n",
       " ('proxy', 11),\n",
       " ('acknowledged', 11),\n",
       " ('require', 11),\n",
       " ('first', 11),\n",
       " ('protocol', 10),\n",
       " ('transaction', 10),\n",
       " ('new', 10),\n",
       " ('unacknowledged', 10),\n",
       " ('document', 9),\n",
       " ('requests', 9),\n",
       " ('retransmissions', 9),\n",
       " ('accept', 9),\n",
       " ('registration', 8),\n",
       " ('sequence', 8),\n",
       " ('contained', 8),\n",
       " ('supported', 8),\n",
       " ('dialog', 8),\n",
       " ('one', 8),\n",
       " ('value', 8),\n",
       " ('cseq', 8),\n",
       " ('copyright', 7),\n",
       " ('extension', 7),\n",
       " ('iana', 7),\n",
       " ('ack', 7),\n",
       " ('case', 7),\n",
       " ('receives', 7),\n",
       " ('section', 7),\n",
       " ('num', 7),\n",
       " ('society', 6),\n",
       " ('indicates', 6),\n",
       " ('order', 6),\n",
       " ('contain', 6),\n",
       " ('allow', 6),\n",
       " ('within', 6),\n",
       " ('initiation', 5),\n",
       " ('messages', 5),\n",
       " ('table', 5),\n",
       " ('headers', 5),\n",
       " ('references', 5),\n",
       " ('two', 5),\n",
       " ('information', 5),\n",
       " ('specification', 5),\n",
       " ('like', 5),\n",
       " ('recommended', 5),\n",
       " ('described', 5),\n",
       " ('use', 5),\n",
       " ('generate', 5),\n",
       " ('match', 5),\n",
       " ('core', 5),\n",
       " ('procedures', 5),\n",
       " ('1xx', 5),\n",
       " ('additional', 5),\n",
       " ('info', 5),\n",
       " ('contact', 5),\n",
       " ('content', 5),\n",
       " ('based', 5),\n",
       " ('defines', 4),\n",
       " ('behavior', 4),\n",
       " ('considerations', 4),\n",
       " ('support', 4)]"
      ]
     },
     "metadata": {},
     "execution_count": 62
    }
   ],
   "source": [
    "c.most_common(100)"
   ]
  },
  {
   "cell_type": "code",
   "execution_count": null,
   "metadata": {},
   "outputs": [],
   "source": []
  }
 ]
}